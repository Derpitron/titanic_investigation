{
  "cells": [
    {
      "cell_type": "markdown",
      "metadata": {
        "id": "view-in-github",
        "colab_type": "text"
      },
      "source": [
        "<a href=\"https://colab.research.google.com/github/Derpitron/titanic_investigation/blob/main/titanic_investigation.ipynb\" target=\"_parent\"><img src=\"https://colab.research.google.com/assets/colab-badge.svg\" alt=\"Open In Colab\"/></a>"
      ]
    },
    {
      "cell_type": "markdown",
      "metadata": {
        "id": "SfQ1NGV99U7J"
      },
      "source": [
        "Import Python math libs"
      ]
    },
    {
      "cell_type": "code",
      "execution_count": null,
      "metadata": {
        "id": "WZbCKvi_8gZp"
      },
      "outputs": [],
      "source": [
        "import numpy as np\n",
        "import pandas as pd"
      ]
    },
    {
      "cell_type": "markdown",
      "metadata": {
        "id": "mxnCNbB49anP"
      },
      "source": [
        "Import Google Drive files"
      ]
    },
    {
      "cell_type": "code",
      "execution_count": null,
      "metadata": {
        "id": "7EjDaMIv9PVP"
      },
      "outputs": [],
      "source": [
        "try:\n",
        "\tfrom google.colab import drive\n",
        "\tdrive.mount('/content/drive')\n",
        "except ModuleNotFoundError:\n",
        "\tpass"
      ]
    },
    {
      "cell_type": "markdown",
      "metadata": {
        "id": "kAe_Us7G-_S0"
      },
      "source": [
        "Load CSV Dataset from Google Drive folder or Local folder"
      ]
    },
    {
      "cell_type": "code",
      "execution_count": null,
      "metadata": {
        "id": "MdYYL6pL--gQ"
      },
      "outputs": [],
      "source": [
        "#import os\n",
        "\n",
        "try:\n",
        "\ttitanic_train_df = pd.read_csv( 'drive/MyDrive/titanic_investigation/titanic.csv' )\n",
        "except FileNotFoundError:\n",
        "\ttitanic_train_df = pd.read_csv( 'data/titanic.csv' )"
      ]
    },
    {
      "cell_type": "markdown",
      "source": [
        "Control the color palette for generated graphs."
      ],
      "metadata": {
        "id": "hZVkVs4-8IKu"
      }
    },
    {
      "cell_type": "code",
      "source": [
        "graph_colour_palette = 'flare'"
      ],
      "metadata": {
        "id": "uPXjrF528IhY"
      },
      "execution_count": null,
      "outputs": []
    },
    {
      "cell_type": "markdown",
      "metadata": {
        "id": "N6bpHhib_1uJ"
      },
      "source": [
        "Inspect titanic dataframe for correctness."
      ]
    },
    {
      "cell_type": "code",
      "execution_count": null,
      "metadata": {
        "id": "9FAh75MiAwn8"
      },
      "outputs": [],
      "source": [
        "titanic_train_df.head(10)"
      ]
    },
    {
      "cell_type": "markdown",
      "metadata": {
        "id": "O1EVqvyQBJFE"
      },
      "source": [
        "`tail()` method shows the last specified records."
      ]
    },
    {
      "cell_type": "code",
      "execution_count": null,
      "metadata": {
        "id": "bDl5kMc0BSfP"
      },
      "outputs": [],
      "source": [
        "titanic_train_df.tail(10)"
      ]
    },
    {
      "cell_type": "markdown",
      "metadata": {
        "id": "vEJE2C8mBfdD"
      },
      "source": [
        "`shape` attribute shows the length and width of the dataframe."
      ]
    },
    {
      "cell_type": "code",
      "execution_count": null,
      "metadata": {
        "id": "DORJpL3DBjUv"
      },
      "outputs": [],
      "source": [
        "titanic_train_df.shape"
      ]
    },
    {
      "cell_type": "markdown",
      "metadata": {
        "id": "Tt3BS2lqB0oE"
      },
      "source": [
        "Display additional info about the dataframe."
      ]
    },
    {
      "cell_type": "code",
      "execution_count": null,
      "metadata": {
        "id": "bvPchncqB3il"
      },
      "outputs": [],
      "source": [
        "titanic_train_df.info()"
      ]
    },
    {
      "cell_type": "markdown",
      "metadata": {
        "id": "WjRQRdXTCCD2"
      },
      "source": [
        "**What each field means:**\n",
        "\n",
        "`survival`: Whether the person survived or not. `0` = no, `1` = yes\n",
        "\n",
        "`pclass`: Passenger class. `1, 2, 3`-th class\n",
        "\n",
        "`name`: Name of passenger\n",
        "\n",
        "`sex`: Sex/gender of the passenger\n",
        "\n",
        "`age`: Age of passenger\n",
        "\n",
        "`cabin no`: The cabin number of passenger\n",
        "\n",
        "etc.."
      ]
    },
    {
      "cell_type": "markdown",
      "metadata": {
        "id": "9FgqCDyTCt6x"
      },
      "source": [
        "**Scrub the data and clean it.**\n",
        "\n",
        "Begin with finding out if there are any missing values. If `isnull()` is `True`, then the particular value is missing. Otherwise, the value exists.\n",
        "\n",
        "\n",
        "\n",
        "1.   Forecast\n",
        "2.   Classify\n",
        "3.   Identify\n",
        "4. Clustering\n",
        "\n"
      ]
    },
    {
      "cell_type": "code",
      "execution_count": null,
      "metadata": {
        "id": "zUoZG3x3DYvk"
      },
      "outputs": [],
      "source": [
        "titanic_train_df.describe()"
      ]
    },
    {
      "cell_type": "code",
      "execution_count": null,
      "metadata": {
        "id": "v7vVhyX_DiTP"
      },
      "outputs": [],
      "source": [
        "titanic_train_df.isnull"
      ]
    },
    {
      "cell_type": "markdown",
      "metadata": {
        "id": "LeQFuMm9Dn5s"
      },
      "source": [
        "Data Visualisation:"
      ]
    },
    {
      "cell_type": "code",
      "execution_count": null,
      "metadata": {
        "id": "UgG0qzbsDqCa"
      },
      "outputs": [],
      "source": [
        "# Importing data-vis libraries\n",
        "\n",
        "import seaborn as sns\n",
        "from matplotlib import pyplot as plt\n",
        "from matplotlib import style\n",
        "%matplotlib inline"
      ]
    },
    {
      "cell_type": "markdown",
      "metadata": {
        "id": "jH83N0-YdJj-"
      },
      "source": [
        "Generating the plot image"
      ]
    },
    {
      "cell_type": "code",
      "execution_count": null,
      "metadata": {
        "id": "bhO46ZRRdLSX"
      },
      "outputs": [],
      "source": [
        "sns.heatmap(\n",
        "    titanic_train_df.head(100).isnull(),\n",
        "    yticklabels = True,\n",
        "    cbar = True,\n",
        "    cmap = graph_colour_palette\n",
        ")"
      ]
    },
    {
      "cell_type": "markdown",
      "metadata": {
        "id": "h-14x3NxeD4s"
      },
      "source": [
        "Removing all the empty/nearly variables columns for **data cleaning**"
      ]
    },
    {
      "cell_type": "code",
      "execution_count": null,
      "metadata": {
        "id": "fHyW835AeMSd"
      },
      "outputs": [],
      "source": [
        "titanic_cleared_df = titanic_train_df.drop(\n",
        "\t[\n",
        "\t\t'age',\n",
        "\t\t'name',\n",
        "\t\t'fare',\n",
        "\t\t'ticket',\n",
        "\t\t'cabin',\n",
        "\t\t'boat',\n",
        "\t\t'body',\n",
        "\t\t'home.dest',\n",
        "\t],\n",
        "\taxis = 1\n",
        ")"
      ]
    },
    {
      "cell_type": "code",
      "execution_count": null,
      "metadata": {
        "id": "gfRzYXk9eiKc"
      },
      "outputs": [],
      "source": [
        "titanic_cleared_df.shape"
      ]
    },
    {
      "cell_type": "code",
      "execution_count": null,
      "metadata": {
        "id": "QLbRTM12el60"
      },
      "outputs": [],
      "source": [
        "titanic_cleared_df = titanic_cleared_df.dropna()"
      ]
    },
    {
      "cell_type": "code",
      "execution_count": null,
      "metadata": {
        "id": "6EgJLnJXeudY"
      },
      "outputs": [],
      "source": [
        "titanic_cleared_df.shape"
      ]
    },
    {
      "cell_type": "markdown",
      "metadata": {
        "id": "4J4X5K1-e16G"
      },
      "source": [
        "Regenerating cleaned plot:"
      ]
    },
    {
      "cell_type": "code",
      "execution_count": null,
      "metadata": {
        "id": "-02fQl0Ee4s_"
      },
      "outputs": [],
      "source": [
        "sns.heatmap(\n",
        "    titanic_train_df.head(100).isnull(),\n",
        "    yticklabels = True,\n",
        "    cbar = True,\n",
        "    cmap = graph_colour_palette\n",
        ")"
      ]
    },
    {
      "cell_type": "markdown",
      "source": [
        "## Explore, model, and interpret the data"
      ],
      "metadata": {
        "id": "UPo4YJwj8Sv1"
      }
    },
    {
      "cell_type": "code",
      "source": [
        "sns.set_style('whitegrid')\n",
        "sns.countplot(\n",
        "    x = 'survived',\n",
        "    data = titanic_cleaned_df,\n",
        "    palette = graph_colour_palette\n",
        ")"
      ],
      "metadata": {
        "id": "q18mYRsZ8T2l"
      },
      "execution_count": null,
      "outputs": []
    },
    {
      "cell_type": "code",
      "source": [
        "sns.set_style('darkgrid')\n",
        "sns.countplot(\n",
        "    x = 'survived',\n",
        "    hue = 'sex',\n",
        "    data = titanic_cleaned_df,\n",
        "    palette = graph_colour_palette\n",
        ")"
      ],
      "metadata": {
        "id": "sY_PsvG68UTq"
      },
      "execution_count": null,
      "outputs": []
    },
    {
      "cell_type": "code",
      "source": [
        "sns.catplot(\n",
        "    x = 'sex',\n",
        "    y = 'survived',\n",
        "    kind = 'point',\n",
        "    data = titanic_cleaned_df,\n",
        "    palette = graph_colour_palette\n",
        ")"
      ],
      "metadata": {
        "id": "M1Aip4vk8U8O"
      },
      "execution_count": null,
      "outputs": []
    },
    {
      "cell_type": "code",
      "source": [
        "sns.catplot(\n",
        "    x = 'sex',\n",
        "    col = 'pclass',\n",
        "    hue = 'sex',\n",
        "    kind = 'count',\n",
        "    data = titanic_cleaned_df,\n",
        "    height = 7,\n",
        "    aspect = 0.8,\n",
        "    palette = graph_colour_palette\n",
        ")\n",
        "\n",
        "plt.subplots_adjust(top = 0.9)\n",
        "plt.suptitle('Titanic Investigation - Class and Gender separation and analysis', fontsize = 20)"
      ],
      "metadata": {
        "id": "bmRXGeKF8VwN"
      },
      "execution_count": null,
      "outputs": []
    },
    {
      "cell_type": "markdown",
      "source": [
        "From the given graph, we conclude that the male passengers survived more across all the classes; with a notable exception for `pclass == 1.0`, where female passengers survived more.\n",
        "\n",
        "We see more survivors in the higher passenger class, especially `pclass == 3.0`.\n",
        "\n",
        "Thus, we can conclude that `pclass` and `gender` are the factors that determined who is more likely to survive the Titanic crash."
      ],
      "metadata": {
        "id": "5w22H6dj8Xfl"
      }
    }
  ],
  "metadata": {
    "colab": {
      "provenance": [],
      "include_colab_link": true
    },
    "kernelspec": {
      "display_name": "Python 3",
      "name": "python3"
    },
    "language_info": {
      "codemirror_mode": {
        "name": "ipython",
        "version": 3
      },
      "file_extension": ".py",
      "mimetype": "text/x-python",
      "name": "python",
      "nbconvert_exporter": "python",
      "pygments_lexer": "ipython3",
      "version": "3.11.2"
    }
  },
  "nbformat": 4,
  "nbformat_minor": 0
}