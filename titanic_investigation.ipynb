{
  "cells": [
    {
      "attachments": {},
      "cell_type": "markdown",
      "metadata": {
        "colab_type": "text",
        "id": "view-in-github"
      },
      "source": [
        "<a href=\"https://colab.research.google.com/github/Derpitron/titanic_investigation/blob/main/titanic_investigation.ipynb\" target=\"_parent\"><img src=\"https://colab.research.google.com/assets/colab-badge.svg\" alt=\"Open In Colab\"/></a>"
      ]
    },
    {
      "attachments": {},
      "cell_type": "markdown",
      "metadata": {
        "id": "SfQ1NGV99U7J"
      },
      "source": [
        "Import Python math libs"
      ]
    },
    {
      "cell_type": "code",
      "execution_count": null,
      "metadata": {
        "id": "WZbCKvi_8gZp"
      },
      "outputs": [],
      "source": [
        "import numpy as np\n",
        "import pandas as pd"
      ]
    },
    {
      "cell_type": "markdown",
      "metadata": {
        "id": "mxnCNbB49anP"
      },
      "source": [
        "Import Google Drive files"
      ]
    },
    {
      "cell_type": "code",
      "execution_count": null,
      "metadata": {
        "colab": {
          "base_uri": "https://localhost:8080/"
        },
        "id": "7EjDaMIv9PVP",
        "outputId": "8a2382a8-204f-4976-9353-3711c5cebc86"
      },
      "outputs": [],
      "source": [
        "try:\n",
        "\tfrom google.colab import drive\n",
        "\tdrive.mount('/content/drive')\n",
        "except ModuleNotFoundError:\n",
        "\tpass"
      ]
    },
    {
      "cell_type": "markdown",
      "metadata": {
        "id": "kAe_Us7G-_S0"
      },
      "source": [
        "Load CSV Dataset from Google Drive folder or Local folder"
      ]
    },
    {
      "cell_type": "code",
      "execution_count": null,
      "metadata": {
        "id": "MdYYL6pL--gQ"
      },
      "outputs": [],
      "source": [
        "#import os\n",
        "\n",
        "try:\n",
        "\ttitanic_train_df = pd.read_csv( 'drive/MyDrive/titanic_investigation/titanic.csv' )\n",
        "except FileNotFoundError:\n",
        "\ttitanic_train_df = pd.read_csv( 'data/titanic.csv' )"
      ]
    },
    {
      "attachments": {},
      "cell_type": "markdown",
      "metadata": {
        "id": "N6bpHhib_1uJ"
      },
      "source": [
        "Inspect titanic dataframe for correctness."
      ]
    },
    {
      "cell_type": "code",
      "execution_count": null,
      "metadata": {
        "colab": {
          "base_uri": "https://localhost:8080/",
          "height": 363
        },
        "id": "9FAh75MiAwn8",
        "outputId": "4ffd5654-4f78-4614-8df6-5ff2275b858f"
      },
      "outputs": [],
      "source": [
        "titanic_train_df.head(10)"
      ]
    },
    {
      "attachments": {},
      "cell_type": "markdown",
      "metadata": {
        "id": "O1EVqvyQBJFE"
      },
      "source": [
        "`tail()` method shows the last specified records."
      ]
    },
    {
      "cell_type": "code",
      "execution_count": null,
      "metadata": {
        "colab": {
          "base_uri": "https://localhost:8080/",
          "height": 363
        },
        "id": "bDl5kMc0BSfP",
        "outputId": "142c987c-c2cf-48bc-c644-a0c898a56c0d"
      },
      "outputs": [],
      "source": [
        "titanic_train_df.tail(10)"
      ]
    },
    {
      "attachments": {},
      "cell_type": "markdown",
      "metadata": {
        "id": "vEJE2C8mBfdD"
      },
      "source": [
        "`shape` attribute shows the length and width of the dataframe."
      ]
    },
    {
      "cell_type": "code",
      "execution_count": null,
      "metadata": {
        "colab": {
          "base_uri": "https://localhost:8080/"
        },
        "id": "DORJpL3DBjUv",
        "outputId": "232b9483-523a-4319-d138-fac9eb6ef71e"
      },
      "outputs": [],
      "source": [
        "titanic_train_df.shape"
      ]
    },
    {
      "attachments": {},
      "cell_type": "markdown",
      "metadata": {
        "id": "Tt3BS2lqB0oE"
      },
      "source": [
        "Display additional info about the dataframe."
      ]
    },
    {
      "cell_type": "code",
      "execution_count": null,
      "metadata": {
        "colab": {
          "base_uri": "https://localhost:8080/"
        },
        "id": "bvPchncqB3il",
        "outputId": "399100b2-dd34-4c33-87b1-f2d21c9cfcbc"
      },
      "outputs": [],
      "source": [
        "titanic_train_df.info()"
      ]
    },
    {
      "cell_type": "markdown",
      "metadata": {
        "id": "WjRQRdXTCCD2"
      },
      "source": [
        "**What each field means:**\n",
        "\n",
        "`survival`: Whether the person survived or not. `0` = no, `1` = yes\n",
        "\n",
        "`pclass`: Passenger class. `1, 2, 3`-th class\n",
        "\n",
        "`name`: Name of passenger\n",
        "\n",
        "`sex`: Sex/gender of the passenger\n",
        "\n",
        "`age`: Age of passenger\n",
        "\n",
        "`cabin no`: The cabin number of passenger\n",
        "\n",
        "etc.."
      ]
    },
    {
      "attachments": {},
      "cell_type": "markdown",
      "metadata": {
        "id": "9FgqCDyTCt6x"
      },
      "source": [
        "**Scrub the data and clean it.**\n",
        "\n",
        "Begin with finding out if there are any missing values. If `isnull()` is `True`, then the particular value is missing. Otherwise, the value exists.\n",
        "\n",
        "\n",
        "\n",
        "1.   Forecast\n",
        "2.   Classify\n",
        "3.   Identify\n",
        "4. Clustering\n",
        "\n"
      ]
    },
    {
      "cell_type": "code",
      "execution_count": null,
      "metadata": {
        "colab": {
          "base_uri": "https://localhost:8080/",
          "height": 300
        },
        "id": "zUoZG3x3DYvk",
        "outputId": "b89e3fa9-aaf9-422b-d23b-d48487c23191"
      },
      "outputs": [],
      "source": [
        "titanic_train_df.describe()"
      ]
    },
    {
      "cell_type": "code",
      "execution_count": null,
      "metadata": {
        "colab": {
          "base_uri": "https://localhost:8080/"
        },
        "id": "v7vVhyX_DiTP",
        "outputId": "cd20377b-8195-46a5-ab2b-bc06aaba1a23"
      },
      "outputs": [],
      "source": [
        "titanic_train_df.isnull"
      ]
    },
    {
      "attachments": {},
      "cell_type": "markdown",
      "metadata": {
        "id": "LeQFuMm9Dn5s"
      },
      "source": [
        "Data Visualisation:"
      ]
    },
    {
      "cell_type": "code",
      "execution_count": null,
      "metadata": {
        "id": "UgG0qzbsDqCa"
      },
      "outputs": [],
      "source": [
        "# Importing data-vis libraries\n",
        "\n",
        "import seaborn as sns\n",
        "from matplotlib import pyplot as plt\n",
        "from matplotlib import style\n",
        "%matplotlib inline"
      ]
    },
    {
      "attachments": {},
      "cell_type": "markdown",
      "metadata": {
        "id": "jH83N0-YdJj-"
      },
      "source": [
        "Generating the plot image"
      ]
    },
    {
      "cell_type": "code",
      "execution_count": null,
      "metadata": {
        "colab": {
          "base_uri": "https://localhost:8080/",
          "height": 513
        },
        "id": "bhO46ZRRdLSX",
        "outputId": "121e7e4f-f6c3-4913-8d98-8b860ead4be8"
      },
      "outputs": [],
      "source": [
        "sns.heatmap(\n",
        "\ttitanic_train_df.head(100).isnull(),\n",
        "\tyticklabels = True,\n",
        "\tcbar = True,\n",
        "\tcmap = 'viridis'\n",
        ")"
      ]
    },
    {
      "attachments": {},
      "cell_type": "markdown",
      "metadata": {
        "id": "h-14x3NxeD4s"
      },
      "source": [
        "Removing all the empty/nearly variables columns for **data cleaning**"
      ]
    },
    {
      "cell_type": "code",
      "execution_count": null,
      "metadata": {
        "id": "fHyW835AeMSd"
      },
      "outputs": [],
      "source": [
        "titanic_cleared_df = titanic_train_df.drop(\n",
        "\t[\n",
        "\t\t'age',\n",
        "\t\t'name',\n",
        "\t\t'fare',\n",
        "\t\t'ticket',\n",
        "\t\t'cabin',\n",
        "\t\t'boat',\n",
        "\t\t'body',\n",
        "\t\t'home.dest',\n",
        "\t],\n",
        "\taxis = 1\n",
        ")"
      ]
    },
    {
      "cell_type": "code",
      "execution_count": null,
      "metadata": {
        "colab": {
          "base_uri": "https://localhost:8080/"
        },
        "id": "gfRzYXk9eiKc",
        "outputId": "bb2a53a0-60f8-4f75-919f-1e46f085d776"
      },
      "outputs": [],
      "source": [
        "titanic_cleared_df.shape"
      ]
    },
    {
      "cell_type": "code",
      "execution_count": null,
      "metadata": {
        "id": "QLbRTM12el60"
      },
      "outputs": [],
      "source": [
        "titanic_cleared_df = titanic_cleared_df.dropna()"
      ]
    },
    {
      "cell_type": "code",
      "execution_count": null,
      "metadata": {
        "colab": {
          "base_uri": "https://localhost:8080/"
        },
        "id": "6EgJLnJXeudY",
        "outputId": "2afa28d3-8b29-4f05-80c3-863301ae7d98"
      },
      "outputs": [],
      "source": [
        "titanic_cleared_df.shape"
      ]
    },
    {
      "attachments": {},
      "cell_type": "markdown",
      "metadata": {
        "id": "4J4X5K1-e16G"
      },
      "source": [
        "Regenerating cleaned plot:"
      ]
    },
    {
      "cell_type": "code",
      "execution_count": null,
      "metadata": {
        "colab": {
          "base_uri": "https://localhost:8080/",
          "height": 513
        },
        "id": "-02fQl0Ee4s_",
        "outputId": "9da75411-5e1f-4711-b5ec-fa742309083b"
      },
      "outputs": [],
      "source": [
        "sns.heatmap(\n",
        "\ttitanic_train_df.head(100).isnull(),\n",
        "\tyticklabels = True,\n",
        "\tcbar = True,\n",
        "\tcmap = 'viridis'\n",
        ")"
      ]
    }
  ],
  "metadata": {
    "colab": {
      "authorship_tag": "ABX9TyP/j5RBuxPayLROwbzKspj4",
      "include_colab_link": true,
      "provenance": []
    },
    "kernelspec": {
      "display_name": "Python 3",
      "name": "python3"
    },
    "language_info": {
      "codemirror_mode": {
        "name": "ipython",
        "version": 3
      },
      "file_extension": ".py",
      "mimetype": "text/x-python",
      "name": "python",
      "nbconvert_exporter": "python",
      "pygments_lexer": "ipython3",
      "version": "3.11.2"
    }
  },
  "nbformat": 4,
  "nbformat_minor": 0
}
